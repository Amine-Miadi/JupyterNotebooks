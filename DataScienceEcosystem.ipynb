{
  "metadata": {
    "language_info": {
      "codemirror_mode": {
        "name": "python",
        "version": 3
      },
      "file_extension": ".py",
      "mimetype": "text/x-python",
      "name": "python",
      "nbconvert_exporter": "python",
      "pygments_lexer": "ipython3",
      "version": "3.8"
    },
    "kernelspec": {
      "name": "python",
      "display_name": "Python (Pyodide)",
      "language": "python"
    }
  },
  "nbformat_minor": 4,
  "nbformat": 4,
  "cells": [
    {
      "cell_type": "markdown",
      "source": "# Data Science Tools and Ecosystem",
      "metadata": {}
    },
    {
      "cell_type": "markdown",
      "source": "In this notebook, Data Science Tools and Ecosystem are summarized.",
      "metadata": {}
    },
    {
      "cell_type": "markdown",
      "source": "**Objectives**\n* List Data Science Languages \n* List Data Science tools\n* List Data Science Libraries\n* Work with markdown cells on Jupyter Notebook\n* Work with code cells on Jupyter Notebook\n",
      "metadata": {}
    },
    {
      "cell_type": "markdown",
      "source": "*Some of the popular languages that Data Scientists use are:*\n* Python\n* R\n* SQL\n* Scala\n* Java\n* C++",
      "metadata": {}
    },
    {
      "cell_type": "markdown",
      "source": "*Some of the commonly used libraries used by Data Scientists include:*\n1. Pandas\n2. SciPy\n3. Numpy\n4. Scikit-learn\n5. Tenserflow\n6. Pytorch\n",
      "metadata": {}
    },
    {
      "cell_type": "markdown",
      "source": "*A table representing some popular data science tools*\nData Management | Data Integration and Transformation | Data Visualization | modelling|\n----------------|-------------------------------------|--------------------|----------|\nMYSQL  |  Apache Kafka  | PowerBI  | Watson Studio\nPostgreSQL  |  Apache Airflow  | Tableau  |  Fidler\nMongoDB  |    | Cognos analytics\nApache Cassandra\n",
      "metadata": {}
    },
    {
      "cell_type": "markdown",
      "source": "Below are a few examples of evaluating arithmetic expressions in Python",
      "metadata": {}
    },
    {
      "cell_type": "code",
      "source": "#This a simple arithmetic expression to mutiply then add integers\n(3*4)+5",
      "metadata": {
        "trusted": true
      },
      "execution_count": 15,
      "outputs": [
        {
          "execution_count": 15,
          "output_type": "execute_result",
          "data": {
            "text/plain": "17"
          },
          "metadata": {}
        }
      ]
    },
    {
      "cell_type": "code",
      "source": "#This will convert 200 minutes to hours by diving by 60\nminutes = 200\nhours = minutes/60\nprint(hours)",
      "metadata": {
        "trusted": true
      },
      "execution_count": 16,
      "outputs": [
        {
          "name": "stdout",
          "text": "3.3333333333333335\n",
          "output_type": "stream"
        }
      ]
    },
    {
      "cell_type": "markdown",
      "source": "## Author\n\nAmine Miadi",
      "metadata": {}
    }
  ]
}